{
 "cells": [
  {
   "cell_type": "code",
   "execution_count": 1,
   "id": "7bfc46a9",
   "metadata": {},
   "outputs": [],
   "source": [
    "string = \"texto\"\n",
    "integer= 3\n",
    "Float = 1.5\n",
    "boolean = False"
   ]
  },
  {
   "cell_type": "code",
   "execution_count": 8,
   "id": "d9f799cd",
   "metadata": {},
   "outputs": [
    {
     "name": "stdout",
     "output_type": "stream",
     "text": [
      "('texto', 3, 1.5, False)\n"
     ]
    }
   ],
   "source": [
    "Mi_tupla = (string, integer, Float, boolean)\n",
    "print(Mi_tupla)"
   ]
  },
  {
   "cell_type": "code",
   "execution_count": 3,
   "id": "ad9e8631",
   "metadata": {},
   "outputs": [
    {
     "name": "stdout",
     "output_type": "stream",
     "text": [
      "[1, 2, 3]\n"
     ]
    }
   ],
   "source": [
    "lista = [1,2,3]\n",
    "print(lista)"
   ]
  },
  {
   "cell_type": "code",
   "execution_count": 9,
   "id": "763e4e67",
   "metadata": {},
   "outputs": [
    {
     "name": "stdout",
     "output_type": "stream",
     "text": [
      "['texto', 3, 1.5, False]\n"
     ]
    }
   ],
   "source": [
    "Mi_lista = list(Mi_tupla)\n",
    "print(Mi_lista)"
   ]
  },
  {
   "cell_type": "code",
   "execution_count": 15,
   "id": "1a5224ce",
   "metadata": {},
   "outputs": [
    {
     "name": "stdout",
     "output_type": "stream",
     "text": [
      "Berlín\n"
     ]
    }
   ],
   "source": [
    "Diccionario_capitales = { \"Alemania\" : \"Berlín\", \"Italia\" : \"Roma\", \"Portugal\" : \"Lisboa\"}\n",
    "Capital_Alemania = Diccionario_capitales[\"Alemania\"]\n",
    "print(Capital_Alemania)"
   ]
  },
  {
   "cell_type": "code",
   "execution_count": 25,
   "id": "475ae29d",
   "metadata": {},
   "outputs": [
    {
     "name": "stdout",
     "output_type": "stream",
     "text": [
      "{1: 'texto'}\n",
      "{1: 'texto', 2: 3}\n",
      "{1: 'texto', 2: 3, 3: 1.5}\n",
      "{1: 'texto', 2: 3, 3: 1.5, 4: False}\n",
      "3\n",
      "3\n"
     ]
    }
   ],
   "source": [
    "Mi_diccionario={}\n",
    "for i in range(len(Mi_lista)):\n",
    "        Mi_diccionario[i+1]=Mi_lista[i]\n",
    "        print(Mi_diccionario)\n",
    "print(Mi_lista[1])\n",
    "print(i)"
   ]
  }
 ],
 "metadata": {
  "kernelspec": {
   "display_name": "Python 3 (ipykernel)",
   "language": "python",
   "name": "python3"
  },
  "language_info": {
   "codemirror_mode": {
    "name": "ipython",
    "version": 3
   },
   "file_extension": ".py",
   "mimetype": "text/x-python",
   "name": "python",
   "nbconvert_exporter": "python",
   "pygments_lexer": "ipython3",
   "version": "3.10.9"
  }
 },
 "nbformat": 4,
 "nbformat_minor": 5
}
