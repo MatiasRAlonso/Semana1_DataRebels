{
 "cells": [
  {
   "cell_type": "code",
   "execution_count": 13,
   "id": "8d3a4ca9",
   "metadata": {},
   "outputs": [
    {
     "name": "stdout",
     "output_type": "stream",
     "text": [
      "Ingresar números a evaluar\n",
      "Ingresa el primer número1\n",
      "Ingresa el segundo número3\n",
      "La suma de los valores es:  4.0\n",
      "La resta de los valores es:  -2.0\n",
      "La multiplicación de los valores es:  3.0\n",
      "La división de los valores es:  0.3333333333333333\n"
     ]
    }
   ],
   "source": [
    "class Calculadora:\n",
    "    # Inicializamos los valores a trabajar\n",
    "    def __init__(self, valor_1, valor_2):\n",
    "        self.valor_1 = valor_1\n",
    "        self.valor_2 = valor_2\n",
    "    \n",
    "    def suma(self):\n",
    "        return self.valor_1 + self.valor_2\n",
    "\n",
    "    def resta(self):\n",
    "        return self.valor_1 - self.valor_2\n",
    "    \n",
    "    def mult(self):\n",
    "        return self.valor_1 * self.valor_2\n",
    "\n",
    "    def division(self):\n",
    "        if self.valor_2 == 0:\n",
    "            return \"No se puede dividir por 0\"\n",
    "        else:\n",
    "            return self.valor_1 / self.valor_2\n",
    "\n",
    "\n",
    "print(\"Ingresar números a evaluar\")\n",
    "valor_1 = float(input(\"Ingresa el primer número\"))\n",
    "valor_2 = float(input(\"Ingresa el segundo número\"))\n",
    "\n",
    "# Pasemos los valores ingresados a nuestra clase\n",
    "calc = Calculadora(valor_1, valor_2)\n",
    "\n",
    "# Usemos los métodos que creamos, para obtener los resultados\n",
    "print(\"La suma de los valores es: \", calc.suma())\n",
    "print(\"La resta de los valores es: \", calc.resta())\n",
    "print(\"La multiplicación de los valores es: \", calc.mult())\n",
    "print(\"La división de los valores es: \", calc.division())\n"
   ]
  }
 ],
 "metadata": {
  "kernelspec": {
   "display_name": "Python 3 (ipykernel)",
   "language": "python",
   "name": "python3"
  },
  "language_info": {
   "codemirror_mode": {
    "name": "ipython",
    "version": 3
   },
   "file_extension": ".py",
   "mimetype": "text/x-python",
   "name": "python",
   "nbconvert_exporter": "python",
   "pygments_lexer": "ipython3",
   "version": "3.10.9"
  }
 },
 "nbformat": 4,
 "nbformat_minor": 5
}
