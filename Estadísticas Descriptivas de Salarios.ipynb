{
 "cells": [
  {
   "cell_type": "code",
   "execution_count": 1,
   "id": "628231a2",
   "metadata": {},
   "outputs": [],
   "source": [
    "#DATOS\n",
    "salarios={\n",
    "    \"Nombre\":[\"Ringo\",\"John\",\"Paul\",\"Geroge\",\"Yoko\"],\n",
    "    \"Edad\":[45,34,42,38,47],\n",
    "    \"Salario\":[12000,14000,13000,11000,10000],\n",
    "    \"Genero\":[\"M\",\"M\",\"M\",\"M\",\"F\"]\n",
    "}"
   ]
  },
  {
   "cell_type": "code",
   "execution_count": 2,
   "id": "8024fe88",
   "metadata": {},
   "outputs": [],
   "source": [
    "import pandas as pd"
   ]
  },
  {
   "cell_type": "code",
   "execution_count": 10,
   "id": "80a0f97a",
   "metadata": {},
   "outputs": [
    {
     "name": "stdout",
     "output_type": "stream",
     "text": [
      "        Edad  Salario Genero\n",
      "Nombre                      \n",
      "Ringo     45    12000      M\n",
      "John      34    14000      M\n",
      "Paul      42    13000      M\n",
      "Geroge    38    11000      M\n",
      "Yoko      47    10000      F\n"
     ]
    }
   ],
   "source": [
    "df=pd.DataFrame(salarios).set_index(\"Nombre\")\n",
    "print(df.head())"
   ]
  },
  {
   "cell_type": "code",
   "execution_count": 12,
   "id": "12cd77ed",
   "metadata": {},
   "outputs": [
    {
     "data": {
      "text/plain": [
       "count        5.00000\n",
       "mean     12000.00000\n",
       "std       1581.13883\n",
       "min      10000.00000\n",
       "25%      11000.00000\n",
       "50%      12000.00000\n",
       "75%      13000.00000\n",
       "max      14000.00000\n",
       "Name: Salario, dtype: float64"
      ]
     },
     "execution_count": 12,
     "metadata": {},
     "output_type": "execute_result"
    }
   ],
   "source": [
    "df[\"Salario\"].describe()"
   ]
  },
  {
   "cell_type": "code",
   "execution_count": 13,
   "id": "19d12cd4",
   "metadata": {},
   "outputs": [
    {
     "data": {
      "text/plain": [
       "10000"
      ]
     },
     "execution_count": 13,
     "metadata": {},
     "output_type": "execute_result"
    }
   ],
   "source": [
    "min(df[\"Salario\"])"
   ]
  },
  {
   "cell_type": "code",
   "execution_count": 14,
   "id": "eaeb1ab6",
   "metadata": {},
   "outputs": [
    {
     "data": {
      "text/plain": [
       "14000"
      ]
     },
     "execution_count": 14,
     "metadata": {},
     "output_type": "execute_result"
    }
   ],
   "source": [
    "max(df[\"Salario\"])"
   ]
  },
  {
   "cell_type": "code",
   "execution_count": 16,
   "id": "a909f27e",
   "metadata": {},
   "outputs": [
    {
     "name": "stdout",
     "output_type": "stream",
     "text": [
      "4000\n"
     ]
    }
   ],
   "source": [
    "rango = max(df[\"Salario\"]) - min(df[\"Salario\"])\n",
    "print(rango)"
   ]
  }
 ],
 "metadata": {
  "kernelspec": {
   "display_name": "Python 3 (ipykernel)",
   "language": "python",
   "name": "python3"
  },
  "language_info": {
   "codemirror_mode": {
    "name": "ipython",
    "version": 3
   },
   "file_extension": ".py",
   "mimetype": "text/x-python",
   "name": "python",
   "nbconvert_exporter": "python",
   "pygments_lexer": "ipython3",
   "version": "3.10.9"
  }
 },
 "nbformat": 4,
 "nbformat_minor": 5
}
