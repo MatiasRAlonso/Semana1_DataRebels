{
 "cells": [
  {
   "cell_type": "code",
   "execution_count": 2,
   "id": "698ff6d1",
   "metadata": {},
   "outputs": [],
   "source": [
    "def cuadratica(a, b, c):\n",
    "    discriminante = b ** 2 - 4*a*c\n",
    "#analizo el discriminante para separar los dos casos del +/-\n",
    "    if discriminante < 0:\n",
    "        print(\"La respuesta no es válida para reales, es decir que cuenta con un valor imaginario\")\n",
    "        return False, False\n",
    "    else:\n",
    "        x1 = (-b + discriminante ** 0.5) / (2*a)\n",
    "        x2 = (-b + discriminante ** 0.5) / (2*a)\n",
    "        return x1, x2\n"
   ]
  },
  {
   "cell_type": "code",
   "execution_count": 5,
   "id": "a80f05e1",
   "metadata": {},
   "outputs": [
    {
     "name": "stdout",
     "output_type": "stream",
     "text": [
      "-2.0\n",
      "-2.0\n"
     ]
    }
   ],
   "source": [
    "#Ejemplo\n",
    "x1,x2 = cuadratica(1,4,4)\n",
    "print(x1)\n",
    "print(x2)"
   ]
  },
  {
   "cell_type": "code",
   "execution_count": 6,
   "id": "3e8487ed",
   "metadata": {},
   "outputs": [
    {
     "name": "stdout",
     "output_type": "stream",
     "text": [
      "La respuesta no es válida para reales, es decir que cuenta con un valor imaginario\n",
      "False\n",
      "False\n"
     ]
    }
   ],
   "source": [
    "#Ejemplo\n",
    "x1,x2 = cuadratica(1,2,5)\n",
    "print(x1)\n",
    "print(x2)"
   ]
  }
 ],
 "metadata": {
  "kernelspec": {
   "display_name": "Python 3 (ipykernel)",
   "language": "python",
   "name": "python3"
  },
  "language_info": {
   "codemirror_mode": {
    "name": "ipython",
    "version": 3
   },
   "file_extension": ".py",
   "mimetype": "text/x-python",
   "name": "python",
   "nbconvert_exporter": "python",
   "pygments_lexer": "ipython3",
   "version": "3.10.9"
  }
 },
 "nbformat": 4,
 "nbformat_minor": 5
}
