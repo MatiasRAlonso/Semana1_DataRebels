{
 "cells": [
  {
   "cell_type": "code",
   "execution_count": 10,
   "id": "e6463e0e",
   "metadata": {},
   "outputs": [
    {
     "name": "stdout",
     "output_type": "stream",
     "text": [
      "Ingrese monto de la compra: 10001\n",
      "Ingrese monto de la compra: 0\n",
      "Total a pagar:  9000.9\n"
     ]
    }
   ],
   "source": [
    "#Parte 1\n",
    "total = 0\n",
    "monto = 1\n",
    "while monto != 0:\n",
    "    monto = float(input(\"Ingrese monto de la compra: \"))\n",
    "    if monto < 0:\n",
    "        print(\"El valor ingresado no es valido\")\n",
    "        continue;\n",
    "    total += monto\n",
    "if total>1000:\n",
    "    total = 0.9*total\n",
    "print(\"Total a pagar: \", total)\n",
    "    \n",
    "    "
   ]
  },
  {
   "cell_type": "code",
   "execution_count": 19,
   "id": "b8064570",
   "metadata": {},
   "outputs": [
    {
     "name": "stdout",
     "output_type": "stream",
     "text": [
      "Ingrese tiempo en estacionamiento en minutos: 121\n",
      "Ingrese tiempo en estacionamiento en minutos: 0\n",
      "Monto a pagar:  55.0\n"
     ]
    }
   ],
   "source": [
    "#Parte 2\n",
    "total = 0\n",
    "tiempo = 1\n",
    "monto = 0\n",
    "while tiempo != 0:\n",
    "    tiempo = float(input(\"Ingrese tiempo en estacionamiento en minutos: \"))\n",
    "    if tiempo < 0:\n",
    "        print(\"El valor ingresado no es valido\")\n",
    "        continue;\n",
    "    total += tiempo\n",
    "    \n",
    "if total > 480:\n",
    "    monto = 25 + -(-(total - 60)//60)*15 + 200;\n",
    "if total > 60:\n",
    "    monto = 25 + -(-(total - 60)//60)*15; \n",
    "else: monto = 25\n",
    "print(\"Monto a pagar: \", monto)"
   ]
  },
  {
   "cell_type": "code",
   "execution_count": null,
   "id": "ba58eac8",
   "metadata": {},
   "outputs": [],
   "source": []
  }
 ],
 "metadata": {
  "kernelspec": {
   "display_name": "Python 3 (ipykernel)",
   "language": "python",
   "name": "python3"
  },
  "language_info": {
   "codemirror_mode": {
    "name": "ipython",
    "version": 3
   },
   "file_extension": ".py",
   "mimetype": "text/x-python",
   "name": "python",
   "nbconvert_exporter": "python",
   "pygments_lexer": "ipython3",
   "version": "3.10.9"
  }
 },
 "nbformat": 4,
 "nbformat_minor": 5
}
