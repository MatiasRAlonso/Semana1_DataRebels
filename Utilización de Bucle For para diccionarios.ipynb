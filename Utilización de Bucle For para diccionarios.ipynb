{
 "cells": [
  {
   "cell_type": "code",
   "execution_count": 7,
   "id": "4ab09e7d",
   "metadata": {},
   "outputs": [
    {
     "name": "stdout",
     "output_type": "stream",
     "text": [
      "Pedro   8\n",
      "Matias   19\n",
      "Martina   15\n",
      "Agustina   4\n",
      "Esteban   124\n"
     ]
    }
   ],
   "source": [
    "diccionario = { \"Pedro\" : 8, \"Matias\" : 19,  \"Martina\" : 15, \"Agustina\" : 4, \"Esteban\" : 124}\n",
    "\n",
    "for i in diccionario:\n",
    "    print(i ,\" \", diccionario[i])\n"
   ]
  },
  {
   "cell_type": "code",
   "execution_count": 9,
   "id": "dfb5c54b",
   "metadata": {},
   "outputs": [
    {
     "name": "stdout",
     "output_type": "stream",
     "text": [
      "MAX:  124\n",
      "MIN:  4\n"
     ]
    }
   ],
   "source": [
    "max=0\n",
    "min=9999999999\n",
    "for i in diccionario:\n",
    "    if diccionario[i]>max:\n",
    "        max = diccionario[i];\n",
    "    if diccionario[i]<min:\n",
    "        min = diccionario[i];\n",
    "print(\"MAX: \", max)\n",
    "print(\"MIN: \", min)\n",
    "        "
   ]
  }
 ],
 "metadata": {
  "kernelspec": {
   "display_name": "Python 3 (ipykernel)",
   "language": "python",
   "name": "python3"
  },
  "language_info": {
   "codemirror_mode": {
    "name": "ipython",
    "version": 3
   },
   "file_extension": ".py",
   "mimetype": "text/x-python",
   "name": "python",
   "nbconvert_exporter": "python",
   "pygments_lexer": "ipython3",
   "version": "3.10.9"
  }
 },
 "nbformat": 4,
 "nbformat_minor": 5
}
